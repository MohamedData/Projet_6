{
 "cells": [
  {
   "cell_type": "markdown",
   "id": "7f91f01a",
   "metadata": {},
   "source": [
    "# Importation des librairies et des données"
   ]
  },
  {
   "cell_type": "code",
   "execution_count": 8,
   "id": "268f4f16",
   "metadata": {},
   "outputs": [
    {
     "name": "stdout",
     "output_type": "stream",
     "text": [
      "Num GPUs Available:  0\n"
     ]
    }
   ],
   "source": [
    "import pandas as pd\n",
    "import numpy as np\n",
    "import matplotlib.pyplot as plt\n",
    "import seaborn as sns\n",
    "import shutil\n",
    "%matplotlib inline\n",
    "import os\n",
    "from os import listdir\n",
    "from sklearn import cluster, metrics\n",
    "from sklearn.model_selection import train_test_split\n",
    "from sklearn.metrics import accuracy_score, auc, roc_auc_score, roc_curve\n",
    "from glob import glob\n",
    "\n",
    "import tensorflow as tf\n",
    "from tensorflow.keras.models import Model, Sequential\n",
    "from tensorflow.keras.layers import GlobalAveragePooling2D, GlobalAveragePooling1D, Flatten, Dense, Dropout \n",
    "from tensorflow.keras.layers import Rescaling, RandomFlip, RandomRotation, RandomZoom\n",
    "from tensorflow.keras.callbacks import EarlyStopping, ModelCheckpoint\n",
    "from tensorflow.keras.applications.vgg16 import VGG16\n",
    "from tensorflow.keras.applications.vgg16 import preprocess_input\n",
    "from tensorflow.keras.preprocessing.image import load_img, img_to_array, ImageDataGenerator\n",
    "from tensorflow.keras.utils import to_categorical\n",
    "\n",
    "from plot_keras_history import show_history, plot_history\n",
    "\n",
    "# os.environ[\"TF_KERAS\"]='1'\n",
    "print(\"Num GPUs Available: \", len(tf.config.list_physical_devices('GPU')))"
   ]
  },
  {
   "cell_type": "code",
   "execution_count": 9,
   "id": "70965206",
   "metadata": {},
   "outputs": [],
   "source": [
    "df_image = pd.read_csv('data.csv')"
   ]
  },
  {
   "cell_type": "code",
   "execution_count": 10,
   "id": "585b9710",
   "metadata": {},
   "outputs": [
    {
     "data": {
      "text/html": [
       "<div>\n",
       "<style scoped>\n",
       "    .dataframe tbody tr th:only-of-type {\n",
       "        vertical-align: middle;\n",
       "    }\n",
       "\n",
       "    .dataframe tbody tr th {\n",
       "        vertical-align: top;\n",
       "    }\n",
       "\n",
       "    .dataframe thead th {\n",
       "        text-align: right;\n",
       "    }\n",
       "</style>\n",
       "<table border=\"1\" class=\"dataframe\">\n",
       "  <thead>\n",
       "    <tr style=\"text-align: right;\">\n",
       "      <th></th>\n",
       "      <th>image</th>\n",
       "      <th>main_category</th>\n",
       "      <th>label</th>\n",
       "    </tr>\n",
       "  </thead>\n",
       "  <tbody>\n",
       "    <tr>\n",
       "      <th>0</th>\n",
       "      <td>..\\Projet_6\\Images\\55b85ea15a1536d46b7190ad6ff...</td>\n",
       "      <td>Home Furnishing</td>\n",
       "      <td>4</td>\n",
       "    </tr>\n",
       "    <tr>\n",
       "      <th>1</th>\n",
       "      <td>..\\Projet_6\\Images\\7b72c92c2f6c40268628ec5f14c...</td>\n",
       "      <td>Baby Care</td>\n",
       "      <td>0</td>\n",
       "    </tr>\n",
       "    <tr>\n",
       "      <th>2</th>\n",
       "      <td>..\\Projet_6\\Images\\64d5d4a258243731dc7bbb1eef4...</td>\n",
       "      <td>Baby Care</td>\n",
       "      <td>0</td>\n",
       "    </tr>\n",
       "    <tr>\n",
       "      <th>3</th>\n",
       "      <td>..\\Projet_6\\Images\\d4684dcdc759dd9cdf41504698d...</td>\n",
       "      <td>Home Furnishing</td>\n",
       "      <td>4</td>\n",
       "    </tr>\n",
       "    <tr>\n",
       "      <th>4</th>\n",
       "      <td>..\\Projet_6\\Images\\6325b6870c54cd47be6ebfbffa6...</td>\n",
       "      <td>Home Furnishing</td>\n",
       "      <td>4</td>\n",
       "    </tr>\n",
       "    <tr>\n",
       "      <th>...</th>\n",
       "      <td>...</td>\n",
       "      <td>...</td>\n",
       "      <td>...</td>\n",
       "    </tr>\n",
       "    <tr>\n",
       "      <th>1045</th>\n",
       "      <td>..\\Projet_6\\Images\\958f54f4c46b53c8a0a9b8167d9...</td>\n",
       "      <td>Baby Care</td>\n",
       "      <td>0</td>\n",
       "    </tr>\n",
       "    <tr>\n",
       "      <th>1046</th>\n",
       "      <td>..\\Projet_6\\Images\\fd6cbcc22efb6b761bd564c2892...</td>\n",
       "      <td>Baby Care</td>\n",
       "      <td>0</td>\n",
       "    </tr>\n",
       "    <tr>\n",
       "      <th>1047</th>\n",
       "      <td>..\\Projet_6\\Images\\5912e037d12774bb73a2048f35a...</td>\n",
       "      <td>Baby Care</td>\n",
       "      <td>0</td>\n",
       "    </tr>\n",
       "    <tr>\n",
       "      <th>1048</th>\n",
       "      <td>..\\Projet_6\\Images\\c3edc504d1b4f0ba6224fa53a43...</td>\n",
       "      <td>Baby Care</td>\n",
       "      <td>0</td>\n",
       "    </tr>\n",
       "    <tr>\n",
       "      <th>1049</th>\n",
       "      <td>..\\Projet_6\\Images\\f2f027ad6a6df617c9f125173da...</td>\n",
       "      <td>Baby Care</td>\n",
       "      <td>0</td>\n",
       "    </tr>\n",
       "  </tbody>\n",
       "</table>\n",
       "<p>1050 rows × 3 columns</p>\n",
       "</div>"
      ],
      "text/plain": [
       "                                                  image    main_category  \\\n",
       "0     ..\\Projet_6\\Images\\55b85ea15a1536d46b7190ad6ff...  Home Furnishing   \n",
       "1     ..\\Projet_6\\Images\\7b72c92c2f6c40268628ec5f14c...        Baby Care   \n",
       "2     ..\\Projet_6\\Images\\64d5d4a258243731dc7bbb1eef4...        Baby Care   \n",
       "3     ..\\Projet_6\\Images\\d4684dcdc759dd9cdf41504698d...  Home Furnishing   \n",
       "4     ..\\Projet_6\\Images\\6325b6870c54cd47be6ebfbffa6...  Home Furnishing   \n",
       "...                                                 ...              ...   \n",
       "1045  ..\\Projet_6\\Images\\958f54f4c46b53c8a0a9b8167d9...        Baby Care   \n",
       "1046  ..\\Projet_6\\Images\\fd6cbcc22efb6b761bd564c2892...        Baby Care   \n",
       "1047  ..\\Projet_6\\Images\\5912e037d12774bb73a2048f35a...        Baby Care   \n",
       "1048  ..\\Projet_6\\Images\\c3edc504d1b4f0ba6224fa53a43...        Baby Care   \n",
       "1049  ..\\Projet_6\\Images\\f2f027ad6a6df617c9f125173da...        Baby Care   \n",
       "\n",
       "      label  \n",
       "0         4  \n",
       "1         0  \n",
       "2         0  \n",
       "3         4  \n",
       "4         4  \n",
       "...     ...  \n",
       "1045      0  \n",
       "1046      0  \n",
       "1047      0  \n",
       "1048      0  \n",
       "1049      0  \n",
       "\n",
       "[1050 rows x 3 columns]"
      ]
     },
     "execution_count": 10,
     "metadata": {},
     "output_type": "execute_result"
    }
   ],
   "source": [
    "df_image"
   ]
  },
  {
   "cell_type": "markdown",
   "id": "b3aff005",
   "metadata": {},
   "source": [
    "Nous produierons dans ce Notebook deux approches basées sur la data augmentation : \n",
    "- La première par Data Generator\n",
    "- La deuxième par Dataset "
   ]
  },
  {
   "cell_type": "markdown",
   "id": "8c4d9aa9",
   "metadata": {},
   "source": [
    "# Approche par Data Generator"
   ]
  },
  {
   "cell_type": "code",
   "execution_count": 18,
   "id": "28d69016",
   "metadata": {},
   "outputs": [],
   "source": [
    "def create_model_fct() :\n",
    "    # Récupération modèle pré-entraîné\n",
    "    model0 = VGG16(include_top=False, weights=\"imagenet\", input_shape=(224, 224, 3))\n",
    "\n",
    "    # Layer non entraînables = on garde les poids du modèle pré-entraîné\n",
    "    for layer in model0.layers:\n",
    "        layer.trainable = False\n",
    "\n",
    "    # Récupérer la sortie de ce réseau\n",
    "    x = model0.output\n",
    "    # Compléter le modèle\n",
    "    x = GlobalAveragePooling2D()(x)\n",
    "    x = Dense(256, activation='relu')(x)\n",
    "    x = Dropout(0.5)(x)\n",
    "    predictions = Dense(7, activation='softmax')(x)\n",
    "\n",
    "    # Définir le nouveau modèle\n",
    "    model = Model(inputs=model0.input, outputs=predictions)\n",
    "    # compilation du modèle \n",
    "    model.compile(loss=\"categorical_crossentropy\", optimizer='rmsprop', metrics=[\"accuracy\"])\n",
    "\n",
    "    print(model.summary())\n",
    "    \n",
    "    return model\n",
    "    "
   ]
  },
  {
   "cell_type": "code",
   "execution_count": 19,
   "id": "e10f70a6",
   "metadata": {},
   "outputs": [],
   "source": [
    "# Pour mélanger les images, classées initalement par classe\n",
    "data = df_image.sample(frac=1, random_state=42).reset_index(drop=True)"
   ]
  },
  {
   "cell_type": "code",
   "execution_count": 20,
   "id": "7eb305e7",
   "metadata": {},
   "outputs": [],
   "source": [
    "batch_size = 32\n",
    "\n",
    "def data_flow_fct(data, datagen, data_type=None) :\n",
    "    data_flow = datagen.flow_from_dataframe(\n",
    "        #DataFrame\n",
    "        data, \n",
    "        #Répertoire du dossier des images\n",
    "        directory='',\n",
    "        #Nom de la colonne répertoriant l'adresse des images dans le Df\n",
    "        x_col='image', \n",
    "        #Nom de la colonne répertoriant le label de chacune des images\n",
    "        y_col='main_category',\n",
    "        #Poids égaux entre les données de train\n",
    "        weight_col=None,\n",
    "        #Tailles de redimensions des images lors de l'entrée dans le modèle\n",
    "        target_size=(256, 256),\n",
    "        #Classes spécifiées dans 'main_category'\n",
    "        classes=None,\n",
    "        #One Hot encoding sur les labels pour le traitement\n",
    "        class_mode='categorical',\n",
    "        #Tailles des mini lots utilisées lors de l'entrainement\n",
    "        batch_size=batch_size,\n",
    "        #Mélange aléatoires des données avant chaque époque\n",
    "        shuffle=True, seed=42,\n",
    "        #Valeur à spécifiée : Training ou Test\n",
    "        subset=data_type\n",
    "                                )\n",
    "    return data_flow"
   ]
  },
  {
   "cell_type": "code",
   "execution_count": 21,
   "id": "0173d1cd",
   "metadata": {},
   "outputs": [
    {
     "name": "stdout",
     "output_type": "stream",
     "text": [
      "Found 840 validated image filenames belonging to 7 classes.\n",
      "Found 210 validated image filenames belonging to 7 classes.\n"
     ]
    }
   ],
   "source": [
    "datagen_train = ImageDataGenerator(\n",
    "#    featurewise_center=True,\n",
    "#    featurewise_std_normalization=True,\n",
    "    \n",
    "    #Rotation sur une plage de +- 20 degrés\n",
    "    rotation_range=20,\n",
    "    \n",
    "    #Décalage horizontal allant jusqu'à 20% de la taille\n",
    "    width_shift_range=0.2,\n",
    "    \n",
    "    #Décalage vertical allant jusqu'à 20% de la taille\n",
    "    height_shift_range=0.2,\n",
    "    \n",
    "    #Les images peuvent être retournées horizontalement de manière aléatoire\n",
    "    horizontal_flip=True,\n",
    "    \n",
    "    #20% du set pour la validation\n",
    "    validation_split=0.20,\n",
    "    \n",
    "    #Fonction de preprocessing des images de tensorflow\n",
    "    preprocessing_function=preprocess_input)\n",
    "\n",
    "train_flow = data_flow_fct(data, datagen_train, data_type='training')\n",
    "val_flow = data_flow_fct(data, datagen_train, data_type='validation')\n",
    "\n",
    "#datagen_test = ImageDataGenerator(\n",
    "    #validation_split=0,\n",
    "    #preprocessing_function=preprocess_input)\n",
    "\n",
    "#test_flow = data_flow_fct(data_test, datagen_test, data_type=None)\n",
    "\n",
    "# compute quantities required for featurewise normalization\n",
    "# (std, mean, and principal components if ZCA whitening is applied)\n",
    "# datagen.fit(X_train)\n",
    "# fits the model on batches with real-time data augmentation:"
   ]
  },
  {
   "cell_type": "code",
   "execution_count": 22,
   "id": "47f572aa",
   "metadata": {},
   "outputs": [
    {
     "name": "stdout",
     "output_type": "stream",
     "text": [
      "Model: \"model_1\"\n",
      "_________________________________________________________________\n",
      " Layer (type)                Output Shape              Param #   \n",
      "=================================================================\n",
      " input_2 (InputLayer)        [(None, 224, 224, 3)]     0         \n",
      "                                                                 \n",
      " block1_conv1 (Conv2D)       (None, 224, 224, 64)      1792      \n",
      "                                                                 \n",
      " block1_conv2 (Conv2D)       (None, 224, 224, 64)      36928     \n",
      "                                                                 \n",
      " block1_pool (MaxPooling2D)  (None, 112, 112, 64)      0         \n",
      "                                                                 \n",
      " block2_conv1 (Conv2D)       (None, 112, 112, 128)     73856     \n",
      "                                                                 \n",
      " block2_conv2 (Conv2D)       (None, 112, 112, 128)     147584    \n",
      "                                                                 \n",
      " block2_pool (MaxPooling2D)  (None, 56, 56, 128)       0         \n",
      "                                                                 \n",
      " block3_conv1 (Conv2D)       (None, 56, 56, 256)       295168    \n",
      "                                                                 \n",
      " block3_conv2 (Conv2D)       (None, 56, 56, 256)       590080    \n",
      "                                                                 \n",
      " block3_conv3 (Conv2D)       (None, 56, 56, 256)       590080    \n",
      "                                                                 \n",
      " block3_pool (MaxPooling2D)  (None, 28, 28, 256)       0         \n",
      "                                                                 \n",
      " block4_conv1 (Conv2D)       (None, 28, 28, 512)       1180160   \n",
      "                                                                 \n",
      " block4_conv2 (Conv2D)       (None, 28, 28, 512)       2359808   \n",
      "                                                                 \n",
      " block4_conv3 (Conv2D)       (None, 28, 28, 512)       2359808   \n",
      "                                                                 \n",
      " block4_pool (MaxPooling2D)  (None, 14, 14, 512)       0         \n",
      "                                                                 \n",
      " block5_conv1 (Conv2D)       (None, 14, 14, 512)       2359808   \n",
      "                                                                 \n",
      " block5_conv2 (Conv2D)       (None, 14, 14, 512)       2359808   \n",
      "                                                                 \n",
      " block5_conv3 (Conv2D)       (None, 14, 14, 512)       2359808   \n",
      "                                                                 \n",
      " block5_pool (MaxPooling2D)  (None, 7, 7, 512)         0         \n",
      "                                                                 \n",
      " global_average_pooling2d_1  (None, 512)               0         \n",
      "  (GlobalAveragePooling2D)                                       \n",
      "                                                                 \n",
      " dense_2 (Dense)             (None, 256)               131328    \n",
      "                                                                 \n",
      " dropout_1 (Dropout)         (None, 256)               0         \n",
      "                                                                 \n",
      " dense_3 (Dense)             (None, 7)                 1799      \n",
      "                                                                 \n",
      "=================================================================\n",
      "Total params: 14847815 (56.64 MB)\n",
      "Trainable params: 133127 (520.03 KB)\n",
      "Non-trainable params: 14714688 (56.13 MB)\n",
      "_________________________________________________________________\n",
      "None\n"
     ]
    }
   ],
   "source": [
    "# Création du modèle\n",
    "with tf.device('/gpu:0'): \n",
    "    model2 = create_model_fct()\n",
    "\n",
    "# Création du callback\n",
    "model2_save_path = \"./model2_best_weights.h5\"\n",
    "checkpoint = ModelCheckpoint(model2_save_path, monitor='val_loss', verbose=1, save_best_only=True, mode='min')\n",
    "es = EarlyStopping(monitor='val_loss', mode='min', verbose=1, patience=5)\n",
    "callbacks_list = [checkpoint, es]\n"
   ]
  },
  {
   "cell_type": "code",
   "execution_count": 23,
   "id": "4b428182",
   "metadata": {},
   "outputs": [
    {
     "name": "stdout",
     "output_type": "stream",
     "text": [
      "Num GPUs Available:  0\n"
     ]
    }
   ],
   "source": [
    "print(\"Num GPUs Available: \", len(tf.config.list_physical_devices('GPU')))\n"
   ]
  },
  {
   "cell_type": "code",
   "execution_count": 24,
   "id": "213a5311",
   "metadata": {},
   "outputs": [
    {
     "name": "stdout",
     "output_type": "stream",
     "text": [
      "Epoch 1/50\n",
      "27/27 [==============================] - ETA: 0s - loss: 3.3516 - accuracy: 0.5048"
     ]
    },
    {
     "name": "stderr",
     "output_type": "stream",
     "text": [
      "C:\\Users\\nessi\\anaconda3\\lib\\site-packages\\PIL\\Image.py:3035: DecompressionBombWarning: Image size (93680328 pixels) exceeds limit of 89478485 pixels, could be decompression bomb DOS attack.\n",
      "  warnings.warn(\n"
     ]
    },
    {
     "name": "stdout",
     "output_type": "stream",
     "text": [
      "\n",
      "Epoch 1: val_loss improved from inf to 1.11939, saving model to .\\model2_best_weights.h5\n",
      "27/27 [==============================] - 111s 4s/step - loss: 3.3516 - accuracy: 0.5048 - val_loss: 1.1194 - val_accuracy: 0.7381\n",
      "Epoch 2/50\n"
     ]
    },
    {
     "name": "stderr",
     "output_type": "stream",
     "text": [
      "C:\\Users\\nessi\\anaconda3\\lib\\site-packages\\keras\\src\\engine\\training.py:3000: UserWarning: You are saving your model as an HDF5 file via `model.save()`. This file format is considered legacy. We recommend using instead the native Keras format, e.g. `model.save('my_model.keras')`.\n",
      "  saving_api.save_model(\n"
     ]
    },
    {
     "name": "stdout",
     "output_type": "stream",
     "text": [
      "27/27 [==============================] - ETA: 0s - loss: 1.4482 - accuracy: 0.6929\n",
      "Epoch 2: val_loss improved from 1.11939 to 0.79213, saving model to .\\model2_best_weights.h5\n",
      "27/27 [==============================] - 113s 4s/step - loss: 1.4482 - accuracy: 0.6929 - val_loss: 0.7921 - val_accuracy: 0.7762\n",
      "Epoch 3/50\n",
      "27/27 [==============================] - ETA: 0s - loss: 1.0428 - accuracy: 0.7298\n",
      "Epoch 3: val_loss did not improve from 0.79213\n",
      "27/27 [==============================] - 115s 4s/step - loss: 1.0428 - accuracy: 0.7298 - val_loss: 0.8426 - val_accuracy: 0.7810\n",
      "Epoch 4/50\n",
      "27/27 [==============================] - ETA: 0s - loss: 0.7434 - accuracy: 0.7893\n",
      "Epoch 4: val_loss improved from 0.79213 to 0.72072, saving model to .\\model2_best_weights.h5\n",
      "27/27 [==============================] - 114s 4s/step - loss: 0.7434 - accuracy: 0.7893 - val_loss: 0.7207 - val_accuracy: 0.8190\n",
      "Epoch 5/50\n",
      "27/27 [==============================] - ETA: 0s - loss: 0.5753 - accuracy: 0.8179\n",
      "Epoch 5: val_loss did not improve from 0.72072\n",
      "27/27 [==============================] - 114s 4s/step - loss: 0.5753 - accuracy: 0.8179 - val_loss: 0.8035 - val_accuracy: 0.8095\n",
      "Epoch 6/50\n",
      "27/27 [==============================] - ETA: 0s - loss: 0.6409 - accuracy: 0.7917\n",
      "Epoch 6: val_loss improved from 0.72072 to 0.69661, saving model to .\\model2_best_weights.h5\n",
      "27/27 [==============================] - 115s 4s/step - loss: 0.6409 - accuracy: 0.7917 - val_loss: 0.6966 - val_accuracy: 0.8190\n",
      "Epoch 7/50\n",
      "27/27 [==============================] - ETA: 0s - loss: 0.5022 - accuracy: 0.8476\n",
      "Epoch 7: val_loss improved from 0.69661 to 0.68223, saving model to .\\model2_best_weights.h5\n",
      "27/27 [==============================] - 114s 4s/step - loss: 0.5022 - accuracy: 0.8476 - val_loss: 0.6822 - val_accuracy: 0.8286\n",
      "Epoch 8/50\n",
      "27/27 [==============================] - ETA: 0s - loss: 0.4417 - accuracy: 0.8643\n",
      "Epoch 8: val_loss improved from 0.68223 to 0.59947, saving model to .\\model2_best_weights.h5\n",
      "27/27 [==============================] - 112s 4s/step - loss: 0.4417 - accuracy: 0.8643 - val_loss: 0.5995 - val_accuracy: 0.8333\n",
      "Epoch 9/50\n",
      "27/27 [==============================] - ETA: 0s - loss: 0.3729 - accuracy: 0.8750\n",
      "Epoch 9: val_loss did not improve from 0.59947\n",
      "27/27 [==============================] - 113s 4s/step - loss: 0.3729 - accuracy: 0.8750 - val_loss: 0.6547 - val_accuracy: 0.8286\n",
      "Epoch 10/50\n",
      "27/27 [==============================] - ETA: 0s - loss: 0.3672 - accuracy: 0.8917\n",
      "Epoch 10: val_loss did not improve from 0.59947\n",
      "27/27 [==============================] - 114s 4s/step - loss: 0.3672 - accuracy: 0.8917 - val_loss: 0.6646 - val_accuracy: 0.8238\n",
      "Epoch 11/50\n",
      "27/27 [==============================] - ETA: 0s - loss: 0.3355 - accuracy: 0.8940\n",
      "Epoch 11: val_loss did not improve from 0.59947\n",
      "27/27 [==============================] - 114s 4s/step - loss: 0.3355 - accuracy: 0.8940 - val_loss: 0.7232 - val_accuracy: 0.8333\n",
      "Epoch 12/50\n",
      "27/27 [==============================] - ETA: 0s - loss: 0.2825 - accuracy: 0.9024\n",
      "Epoch 12: val_loss did not improve from 0.59947\n",
      "27/27 [==============================] - 116s 4s/step - loss: 0.2825 - accuracy: 0.9024 - val_loss: 0.6644 - val_accuracy: 0.8429\n",
      "Epoch 13/50\n",
      "27/27 [==============================] - ETA: 0s - loss: 0.2408 - accuracy: 0.9298\n",
      "Epoch 13: val_loss did not improve from 0.59947\n",
      "27/27 [==============================] - 115s 4s/step - loss: 0.2408 - accuracy: 0.9298 - val_loss: 0.7259 - val_accuracy: 0.8286\n",
      "Epoch 13: early stopping\n"
     ]
    }
   ],
   "source": [
    "with tf.device('/gpu:0'): \n",
    "    history2 = model2.fit(train_flow,\n",
    "                    validation_data=val_flow,\n",
    "                    batch_size=batch_size, epochs=50, callbacks=callbacks_list, verbose=1)\n"
   ]
  },
  {
   "cell_type": "code",
   "execution_count": 25,
   "id": "9ab81dff",
   "metadata": {},
   "outputs": [
    {
     "name": "stdout",
     "output_type": "stream",
     "text": [
      "27/27 [==============================] - 90s 3s/step - loss: 0.0853 - accuracy: 0.9702\n",
      "Training Accuracy   : 0.9702\n",
      "\n",
      "7/7 [==============================] - 23s 3s/step - loss: 0.7398 - accuracy: 0.8429\n",
      "Validation Accuracy :  0.8429\n"
     ]
    }
   ],
   "source": [
    "# Score du dernier epoch\n",
    "\n",
    "loss, accuracy = model2.evaluate(train_flow, verbose=True)\n",
    "print(\"Training Accuracy   : {:.4f}\".format(accuracy))\n",
    "print()\n",
    "loss, accuracy = model2.evaluate(val_flow, verbose=True)\n",
    "print(\"Validation Accuracy :  {:.4f}\".format(accuracy))"
   ]
  },
  {
   "cell_type": "code",
   "execution_count": 26,
   "id": "2714a3d9",
   "metadata": {},
   "outputs": [
    {
     "data": {
      "image/png": "[encoded data removed]",
      "text/plain": [
       "<Figure size 1000x500 with 2 Axes>"
      ]
     },
     "metadata": {},
     "output_type": "display_data"
    }
   ],
   "source": [
    "show_history(history2)\n",
    "plot_history(history2, path=\"standard.png\")\n",
    "plt.close()"
   ]
  },
  {
   "cell_type": "markdown",
   "id": "c944faf9",
   "metadata": {},
   "source": [
    "On observe que la précision du modèle sur le data test est de 0.83 ce qui est un très bon résultat pour le peu de photo présente."
   ]
  },
  {
   "cell_type": "markdown",
   "id": "34120f49",
   "metadata": {},
   "source": [
    "# Approche par Dataset avec data augmentation intégrée au modèle"
   ]
  },
  {
   "cell_type": "code",
   "execution_count": 27,
   "id": "89cbb731",
   "metadata": {},
   "outputs": [],
   "source": [
    "#Copie de df_image dans df_image_2\n",
    "df_image_2 = df_image.copy()"
   ]
  },
  {
   "cell_type": "code",
   "execution_count": 28,
   "id": "2f4904a7",
   "metadata": {},
   "outputs": [],
   "source": [
    "#Fonction qui permet d'attribuer un nouveau chemin pour les images\n",
    "def change_repertory(path):\n",
    "    return path[:12] + 'Images_categ' + path[18:]"
   ]
  },
  {
   "cell_type": "code",
   "execution_count": 29,
   "id": "785d72d0",
   "metadata": {},
   "outputs": [],
   "source": [
    "#Application de la fonction\n",
    "df_image_2['image'] = df_image['image'].apply(change_repertory)"
   ]
  },
  {
   "cell_type": "code",
   "execution_count": 30,
   "id": "9d40f42b",
   "metadata": {},
   "outputs": [],
   "source": [
    "# Chemin du répertoire contenant les images\n",
    "chemin_repertoire_images = \"..\\Projet_6\\Images_categ\\\\\"\n",
    "\n",
    "# Créer un dictionnaire où les clés sont les noms de catégories\n",
    "# et les valeurs sont les noms des sous-dossiers correspondants\n",
    "categories = {\n",
    "    \"Home Furnishing\": \"Home Furnishing\",\n",
    "    \"Baby Care\": \"Baby Care\",\n",
    "    \"Watches\": \"Watches\",\n",
    "    \"Home Decor & Festive Needs\": \"Home Decor & Festive Needs\",\n",
    "    \"Kitchen & Dining\": \"Kitchen & Dining\",\n",
    "    \"Beauty and Personal Care\": \"Beauty and Personal Care\",\n",
    "    \"Computers\": \"Computers\"\n",
    "}\n",
    "\n",
    "for fichier in df_image_2.image.values:\n",
    "    if os.path.isfile(fichier):\n",
    "        categorie_trouvee = df_image_2.loc[df_image_2.image == fichier, 'main_category'].values[0]\n",
    "        print(categorie_trouvee)\n",
    "        chemin_nouveau_dossier = os.path.join(chemin_repertoire_images, categories[categorie_trouvee])\n",
    "        print(chemin_nouveau_dossier)\n",
    "        os.makedirs(chemin_nouveau_dossier, exist_ok=True) # Créer le sous-dossier s'il n'existe pas déjà\n",
    "        chemin_nouveau_fichier = os.path.join(chemin_nouveau_dossier, fichier[26:])\n",
    "        print(chemin_nouveau_fichier)\n",
    "        shutil.move(fichier, chemin_nouveau_fichier)"
   ]
  },
  {
   "cell_type": "code",
   "execution_count": 31,
   "id": "ffc3716c",
   "metadata": {},
   "outputs": [],
   "source": [
    "path = \"..\\Projet_6\\Images_categ\\\\\""
   ]
  },
  {
   "cell_type": "code",
   "execution_count": 32,
   "id": "7207d4b9",
   "metadata": {},
   "outputs": [],
   "source": [
    "batch_size = 32\n",
    "\n",
    "def dataset_fct(path, validation_split=0, data_type=None) :\n",
    "    dataset = tf.keras.utils.image_dataset_from_directory(\n",
    "        #Chemin du répertoire contenant les images\n",
    "        path,\n",
    "        #Les labels corresponderont aux sous dossiers contenant les différentes catégories\n",
    "        labels='inferred',\n",
    "        #One Hot encoding sur les labels pour le traitement\n",
    "        label_mode='categorical',\n",
    "        #Nom des classes attribuées aux noms des sous repertoires \n",
    "        class_names=None,\n",
    "        #Nombre de batch\n",
    "        batch_size=batch_size,\n",
    "        #Taille de redimension des images avant entrée dans le modèle\n",
    "        image_size=(224, 224),\n",
    "        #Mélange aléatoire pour chaque époque\n",
    "        shuffle=True, seed=42,\n",
    "        #Taille du validation set\n",
    "        validation_split=validation_split,\n",
    "        #Data train ou data validation\n",
    "        subset=data_type\n",
    "                    )\n",
    "    return dataset"
   ]
  },
  {
   "cell_type": "code",
   "execution_count": 33,
   "id": "20b4c9d8",
   "metadata": {},
   "outputs": [
    {
     "name": "stdout",
     "output_type": "stream",
     "text": [
      "Found 1050 files belonging to 7 classes.\n",
      "Using 840 files for training.\n",
      "Found 1050 files belonging to 7 classes.\n",
      "Using 210 files for validation.\n"
     ]
    }
   ],
   "source": [
    "dataset_train = dataset_fct(path, validation_split=0.2, data_type='training')\n",
    "dataset_val = dataset_fct(path, validation_split=0.2, data_type='validation')\n",
    "#dataset_test = dataset_fct(path_test, validation_split=0, data_type=None)"
   ]
  },
  {
   "cell_type": "code",
   "execution_count": 34,
   "id": "0fd57e8f",
   "metadata": {},
   "outputs": [],
   "source": [
    "def resize_and_rescale(image, label):\n",
    "    #Conversion des valeurs pixels des images en float\n",
    "    image = tf.cast(image, tf.float32)\n",
    "    #Redimensionne l'image à la taille spécifiée\n",
    "    image = tf.image.resize(image, [IMG_SIZE, IMG_SIZE])\n",
    "    #Normalisation des valeurs des pixels\n",
    "    image = (image / 255.0)\n",
    "    return image, label"
   ]
  },
  {
   "cell_type": "code",
   "execution_count": 35,
   "id": "cf31ca12",
   "metadata": {},
   "outputs": [],
   "source": [
    "def create_model_fct2() :\n",
    "    # Data augmentation\n",
    "    data_augmentation = Sequential([\n",
    "        #Retournement horizontal aléatoire avec une proba de 0.5\n",
    "        RandomFlip(\"horizontal\", input_shape=(224, 224, 3)),\n",
    "        #Rotation aléatoire de +-10% de l'image initiale\n",
    "        RandomRotation(0.1),\n",
    "        #Zoom aléatoire sur une plage de +-10%\n",
    "        RandomZoom(0.1),\n",
    "        # Rescaling(1./127.5, offset=-1.0)\n",
    "      ])\n",
    "    \n",
    "    # Récupération modèle pré-entraîné\n",
    "    model_base = VGG16(include_top=False, weights=\"imagenet\", input_shape=(224, 224, 3))\n",
    "    for layer in model_base.layers:\n",
    "        layer.trainable = False\n",
    "\n",
    "    # Définition du nouveau modèle\n",
    "    model = Sequential([\n",
    "                #Application de la data augmentation \n",
    "                data_augmentation,\n",
    "                #Rescaling\n",
    "                Rescaling(1./127.5, offset=-1),\n",
    "                #VGG16\n",
    "                model_base,\n",
    "                GlobalAveragePooling2D(),\n",
    "                Dense(256, activation='relu'),\n",
    "                Dropout(0.5),\n",
    "                Dense(7, activation='softmax')\n",
    "                ])\n",
    "\n",
    "    # compilation du modèle \n",
    "    model.compile(loss=\"categorical_crossentropy\", optimizer='adam', metrics=[\"accuracy\"])\n",
    "\n",
    "    print(model.summary())\n",
    "    \n",
    "    return model\n",
    "    "
   ]
  },
  {
   "cell_type": "code",
   "execution_count": 36,
   "id": "d2576ee1",
   "metadata": {},
   "outputs": [
    {
     "name": "stdout",
     "output_type": "stream",
     "text": [
      "Model: \"sequential_1\"\n",
      "_________________________________________________________________\n",
      " Layer (type)                Output Shape              Param #   \n",
      "=================================================================\n",
      " sequential (Sequential)     (None, 224, 224, 3)       0         \n",
      "                                                                 \n",
      " rescaling (Rescaling)       (None, 224, 224, 3)       0         \n",
      "                                                                 \n",
      " vgg16 (Functional)          (None, 7, 7, 512)         14714688  \n",
      "                                                                 \n",
      " global_average_pooling2d_2  (None, 512)               0         \n",
      "  (GlobalAveragePooling2D)                                       \n",
      "                                                                 \n",
      " dense_4 (Dense)             (None, 256)               131328    \n",
      "                                                                 \n",
      " dropout_2 (Dropout)         (None, 256)               0         \n",
      "                                                                 \n",
      " dense_5 (Dense)             (None, 7)                 1799      \n",
      "                                                                 \n",
      "=================================================================\n",
      "Total params: 14847815 (56.64 MB)\n",
      "Trainable params: 133127 (520.03 KB)\n",
      "Non-trainable params: 14714688 (56.13 MB)\n",
      "_________________________________________________________________\n",
      "None\n"
     ]
    }
   ],
   "source": [
    "# Création du modèle\n",
    "with tf.device('/gpu:0'): \n",
    "    model4 = create_model_fct2()\n",
    "\n",
    "# Création du callback\n",
    "model4_save_path = \"./model4_best_weights.h5\"\n",
    "checkpoint = ModelCheckpoint(model4_save_path, monitor='val_loss', verbose=1, save_best_only=True, mode='min')\n",
    "es = EarlyStopping(monitor='val_loss', mode='min', verbose=1, patience=5)\n",
    "callbacks_list = [checkpoint, es]\n"
   ]
  },
  {
   "cell_type": "code",
   "execution_count": 37,
   "id": "0b29bc76",
   "metadata": {},
   "outputs": [
    {
     "name": "stdout",
     "output_type": "stream",
     "text": [
      "Num GPUs Available:  0\n"
     ]
    }
   ],
   "source": [
    "print(\"Num GPUs Available: \", len(tf.config.list_physical_devices('GPU')))"
   ]
  },
  {
   "cell_type": "code",
   "execution_count": 38,
   "id": "ccadf70d",
   "metadata": {},
   "outputs": [
    {
     "name": "stdout",
     "output_type": "stream",
     "text": [
      "Epoch 1/50\n",
      "27/27 [==============================] - ETA: 0s - loss: 1.8055 - accuracy: 0.3000\n",
      "Epoch 1: val_loss improved from inf to 1.34427, saving model to .\\model4_best_weights.h5\n",
      "27/27 [==============================] - 86s 3s/step - loss: 1.8055 - accuracy: 0.3000 - val_loss: 1.3443 - val_accuracy: 0.6143\n",
      "Epoch 2/50\n",
      "27/27 [==============================] - ETA: 0s - loss: 1.2916 - accuracy: 0.5667\n",
      "Epoch 2: val_loss improved from 1.34427 to 1.04106, saving model to .\\model4_best_weights.h5\n",
      "27/27 [==============================] - 87s 3s/step - loss: 1.2916 - accuracy: 0.5667 - val_loss: 1.0411 - val_accuracy: 0.7095\n",
      "Epoch 3/50\n",
      "27/27 [==============================] - ETA: 0s - loss: 1.1074 - accuracy: 0.6310\n",
      "Epoch 3: val_loss improved from 1.04106 to 0.90778, saving model to .\\model4_best_weights.h5\n",
      "27/27 [==============================] - 86s 3s/step - loss: 1.1074 - accuracy: 0.6310 - val_loss: 0.9078 - val_accuracy: 0.7333\n",
      "Epoch 4/50\n",
      "27/27 [==============================] - ETA: 0s - loss: 0.9543 - accuracy: 0.7060\n",
      "Epoch 4: val_loss improved from 0.90778 to 0.84321, saving model to .\\model4_best_weights.h5\n",
      "27/27 [==============================] - 88s 3s/step - loss: 0.9543 - accuracy: 0.7060 - val_loss: 0.8432 - val_accuracy: 0.7333\n",
      "Epoch 5/50\n",
      "27/27 [==============================] - ETA: 0s - loss: 0.8947 - accuracy: 0.7202\n",
      "Epoch 5: val_loss improved from 0.84321 to 0.78064, saving model to .\\model4_best_weights.h5\n",
      "27/27 [==============================] - 87s 3s/step - loss: 0.8947 - accuracy: 0.7202 - val_loss: 0.7806 - val_accuracy: 0.7429\n",
      "Epoch 6/50\n",
      "27/27 [==============================] - ETA: 0s - loss: 0.8663 - accuracy: 0.7119\n",
      "Epoch 6: val_loss improved from 0.78064 to 0.75066, saving model to .\\model4_best_weights.h5\n",
      "27/27 [==============================] - 87s 3s/step - loss: 0.8663 - accuracy: 0.7119 - val_loss: 0.7507 - val_accuracy: 0.7429\n",
      "Epoch 7/50\n",
      "27/27 [==============================] - ETA: 0s - loss: 0.8255 - accuracy: 0.7310\n",
      "Epoch 7: val_loss improved from 0.75066 to 0.72016, saving model to .\\model4_best_weights.h5\n",
      "27/27 [==============================] - 88s 3s/step - loss: 0.8255 - accuracy: 0.7310 - val_loss: 0.7202 - val_accuracy: 0.7524\n",
      "Epoch 8/50\n",
      "27/27 [==============================] - ETA: 0s - loss: 0.7821 - accuracy: 0.7476\n",
      "Epoch 8: val_loss improved from 0.72016 to 0.67205, saving model to .\\model4_best_weights.h5\n",
      "27/27 [==============================] - 87s 3s/step - loss: 0.7821 - accuracy: 0.7476 - val_loss: 0.6721 - val_accuracy: 0.7619\n",
      "Epoch 9/50\n",
      "27/27 [==============================] - ETA: 0s - loss: 0.7267 - accuracy: 0.7726\n",
      "Epoch 9: val_loss improved from 0.67205 to 0.64633, saving model to .\\model4_best_weights.h5\n",
      "27/27 [==============================] - 86s 3s/step - loss: 0.7267 - accuracy: 0.7726 - val_loss: 0.6463 - val_accuracy: 0.7857\n",
      "Epoch 10/50\n",
      "27/27 [==============================] - ETA: 0s - loss: 0.7256 - accuracy: 0.7690\n",
      "Epoch 10: val_loss did not improve from 0.64633\n",
      "27/27 [==============================] - 87s 3s/step - loss: 0.7256 - accuracy: 0.7690 - val_loss: 0.6654 - val_accuracy: 0.7476\n",
      "Epoch 11/50\n",
      "27/27 [==============================] - ETA: 0s - loss: 0.6947 - accuracy: 0.7726\n",
      "Epoch 11: val_loss improved from 0.64633 to 0.63737, saving model to .\\model4_best_weights.h5\n",
      "27/27 [==============================] - 87s 3s/step - loss: 0.6947 - accuracy: 0.7726 - val_loss: 0.6374 - val_accuracy: 0.7762\n",
      "Epoch 12/50\n",
      "27/27 [==============================] - ETA: 0s - loss: 0.6686 - accuracy: 0.7798\n",
      "Epoch 12: val_loss improved from 0.63737 to 0.63154, saving model to .\\model4_best_weights.h5\n",
      "27/27 [==============================] - 87s 3s/step - loss: 0.6686 - accuracy: 0.7798 - val_loss: 0.6315 - val_accuracy: 0.7857\n",
      "Epoch 13/50\n",
      "27/27 [==============================] - ETA: 0s - loss: 0.6622 - accuracy: 0.7905\n",
      "Epoch 13: val_loss did not improve from 0.63154\n",
      "27/27 [==============================] - 88s 3s/step - loss: 0.6622 - accuracy: 0.7905 - val_loss: 0.6552 - val_accuracy: 0.7762\n",
      "Epoch 14/50\n",
      "27/27 [==============================] - ETA: 0s - loss: 0.6204 - accuracy: 0.8083\n",
      "Epoch 14: val_loss improved from 0.63154 to 0.62433, saving model to .\\model4_best_weights.h5\n",
      "27/27 [==============================] - 88s 3s/step - loss: 0.6204 - accuracy: 0.8083 - val_loss: 0.6243 - val_accuracy: 0.7810\n",
      "Epoch 15/50\n",
      "27/27 [==============================] - ETA: 0s - loss: 0.6123 - accuracy: 0.8083\n",
      "Epoch 15: val_loss improved from 0.62433 to 0.60883, saving model to .\\model4_best_weights.h5\n",
      "27/27 [==============================] - 89s 3s/step - loss: 0.6123 - accuracy: 0.8083 - val_loss: 0.6088 - val_accuracy: 0.7905\n",
      "Epoch 16/50\n",
      "27/27 [==============================] - ETA: 0s - loss: 0.5999 - accuracy: 0.8024\n",
      "Epoch 16: val_loss did not improve from 0.60883\n",
      "27/27 [==============================] - 87s 3s/step - loss: 0.5999 - accuracy: 0.8024 - val_loss: 0.6153 - val_accuracy: 0.7952\n",
      "Epoch 17/50\n",
      "27/27 [==============================] - ETA: 0s - loss: 0.5953 - accuracy: 0.7964\n",
      "Epoch 17: val_loss did not improve from 0.60883\n",
      "27/27 [==============================] - 87s 3s/step - loss: 0.5953 - accuracy: 0.7964 - val_loss: 0.6187 - val_accuracy: 0.7905\n",
      "Epoch 18/50\n",
      "27/27 [==============================] - ETA: 0s - loss: 0.5925 - accuracy: 0.8048\n",
      "Epoch 18: val_loss improved from 0.60883 to 0.60430, saving model to .\\model4_best_weights.h5\n",
      "27/27 [==============================] - 87s 3s/step - loss: 0.5925 - accuracy: 0.8048 - val_loss: 0.6043 - val_accuracy: 0.7952\n",
      "Epoch 19/50\n",
      "27/27 [==============================] - ETA: 0s - loss: 0.5440 - accuracy: 0.8345\n",
      "Epoch 19: val_loss improved from 0.60430 to 0.59833, saving model to .\\model4_best_weights.h5\n",
      "27/27 [==============================] - 88s 3s/step - loss: 0.5440 - accuracy: 0.8345 - val_loss: 0.5983 - val_accuracy: 0.8000\n",
      "Epoch 20/50\n",
      "27/27 [==============================] - ETA: 0s - loss: 0.5197 - accuracy: 0.8310\n",
      "Epoch 20: val_loss did not improve from 0.59833\n",
      "27/27 [==============================] - 88s 3s/step - loss: 0.5197 - accuracy: 0.8310 - val_loss: 0.6094 - val_accuracy: 0.7857\n",
      "Epoch 21/50\n",
      "27/27 [==============================] - ETA: 0s - loss: 0.5240 - accuracy: 0.8333\n",
      "Epoch 21: val_loss improved from 0.59833 to 0.58634, saving model to .\\model4_best_weights.h5\n",
      "27/27 [==============================] - 88s 3s/step - loss: 0.5240 - accuracy: 0.8333 - val_loss: 0.5863 - val_accuracy: 0.8095\n",
      "Epoch 22/50\n",
      "27/27 [==============================] - ETA: 0s - loss: 0.5269 - accuracy: 0.8250\n",
      "Epoch 22: val_loss improved from 0.58634 to 0.58406, saving model to .\\model4_best_weights.h5\n",
      "27/27 [==============================] - 88s 3s/step - loss: 0.5269 - accuracy: 0.8250 - val_loss: 0.5841 - val_accuracy: 0.8000\n",
      "Epoch 23/50\n",
      "27/27 [==============================] - ETA: 0s - loss: 0.5094 - accuracy: 0.8238\n",
      "Epoch 23: val_loss did not improve from 0.58406\n",
      "27/27 [==============================] - 87s 3s/step - loss: 0.5094 - accuracy: 0.8238 - val_loss: 0.5876 - val_accuracy: 0.8000\n",
      "Epoch 24/50\n",
      "27/27 [==============================] - ETA: 0s - loss: 0.4542 - accuracy: 0.8524\n",
      "Epoch 24: val_loss did not improve from 0.58406\n",
      "27/27 [==============================] - 87s 3s/step - loss: 0.4542 - accuracy: 0.8524 - val_loss: 0.6098 - val_accuracy: 0.7952\n",
      "Epoch 25/50\n",
      "27/27 [==============================] - ETA: 0s - loss: 0.4734 - accuracy: 0.8464\n",
      "Epoch 25: val_loss improved from 0.58406 to 0.57985, saving model to .\\model4_best_weights.h5\n",
      "27/27 [==============================] - 87s 3s/step - loss: 0.4734 - accuracy: 0.8464 - val_loss: 0.5799 - val_accuracy: 0.8048\n",
      "Epoch 26/50\n",
      "27/27 [==============================] - ETA: 0s - loss: 0.4464 - accuracy: 0.8560\n",
      "Epoch 26: val_loss did not improve from 0.57985\n",
      "27/27 [==============================] - 87s 3s/step - loss: 0.4464 - accuracy: 0.8560 - val_loss: 0.5969 - val_accuracy: 0.7952\n",
      "Epoch 27/50\n",
      "27/27 [==============================] - ETA: 0s - loss: 0.4196 - accuracy: 0.8643\n",
      "Epoch 27: val_loss did not improve from 0.57985\n",
      "27/27 [==============================] - 87s 3s/step - loss: 0.4196 - accuracy: 0.8643 - val_loss: 0.5910 - val_accuracy: 0.8143\n",
      "Epoch 28/50\n",
      "27/27 [==============================] - ETA: 0s - loss: 0.4239 - accuracy: 0.8774\n",
      "Epoch 28: val_loss did not improve from 0.57985\n",
      "27/27 [==============================] - 88s 3s/step - loss: 0.4239 - accuracy: 0.8774 - val_loss: 0.5854 - val_accuracy: 0.8190\n",
      "Epoch 29/50\n",
      "27/27 [==============================] - ETA: 0s - loss: 0.4116 - accuracy: 0.8714\n",
      "Epoch 29: val_loss improved from 0.57985 to 0.57950, saving model to .\\model4_best_weights.h5\n",
      "27/27 [==============================] - 90s 3s/step - loss: 0.4116 - accuracy: 0.8714 - val_loss: 0.5795 - val_accuracy: 0.7952\n",
      "Epoch 30/50\n",
      "27/27 [==============================] - ETA: 0s - loss: 0.4156 - accuracy: 0.8702\n",
      "Epoch 30: val_loss did not improve from 0.57950\n",
      "27/27 [==============================] - 88s 3s/step - loss: 0.4156 - accuracy: 0.8702 - val_loss: 0.6021 - val_accuracy: 0.8000\n",
      "Epoch 31/50\n",
      "27/27 [==============================] - ETA: 0s - loss: 0.4004 - accuracy: 0.8714\n",
      "Epoch 31: val_loss improved from 0.57950 to 0.57604, saving model to .\\model4_best_weights.h5\n",
      "27/27 [==============================] - 87s 3s/step - loss: 0.4004 - accuracy: 0.8714 - val_loss: 0.5760 - val_accuracy: 0.8238\n",
      "Epoch 32/50\n",
      "27/27 [==============================] - ETA: 0s - loss: 0.3877 - accuracy: 0.8702\n",
      "Epoch 32: val_loss did not improve from 0.57604\n",
      "27/27 [==============================] - 88s 3s/step - loss: 0.3877 - accuracy: 0.8702 - val_loss: 0.6098 - val_accuracy: 0.8143\n",
      "Epoch 33/50\n",
      "27/27 [==============================] - ETA: 0s - loss: 0.3836 - accuracy: 0.8833\n",
      "Epoch 33: val_loss did not improve from 0.57604\n",
      "27/27 [==============================] - 88s 3s/step - loss: 0.3836 - accuracy: 0.8833 - val_loss: 0.6018 - val_accuracy: 0.8048\n",
      "Epoch 34/50\n",
      "27/27 [==============================] - ETA: 0s - loss: 0.3981 - accuracy: 0.8690\n",
      "Epoch 34: val_loss did not improve from 0.57604\n",
      "27/27 [==============================] - 88s 3s/step - loss: 0.3981 - accuracy: 0.8690 - val_loss: 0.5846 - val_accuracy: 0.8000\n",
      "Epoch 35/50\n",
      "27/27 [==============================] - ETA: 0s - loss: 0.3879 - accuracy: 0.8798\n",
      "Epoch 35: val_loss did not improve from 0.57604\n",
      "27/27 [==============================] - 88s 3s/step - loss: 0.3879 - accuracy: 0.8798 - val_loss: 0.5763 - val_accuracy: 0.8095\n",
      "Epoch 36/50\n",
      "27/27 [==============================] - ETA: 0s - loss: 0.3639 - accuracy: 0.8845\n",
      "Epoch 36: val_loss did not improve from 0.57604\n",
      "27/27 [==============================] - 89s 3s/step - loss: 0.3639 - accuracy: 0.8845 - val_loss: 0.5926 - val_accuracy: 0.8095\n",
      "Epoch 36: early stopping\n"
     ]
    }
   ],
   "source": [
    "with tf.device('/gpu:0'): \n",
    "    history4 = model4.fit(dataset_train,\n",
    "                    validation_data=dataset_val,\n",
    "                    batch_size=batch_size, epochs=50, callbacks=callbacks_list, verbose=1)\n"
   ]
  },
  {
   "cell_type": "code",
   "execution_count": 39,
   "id": "b9c64bd4",
   "metadata": {},
   "outputs": [
    {
     "name": "stdout",
     "output_type": "stream",
     "text": [
      "27/27 [==============================] - 69s 3s/step - loss: 0.2523 - accuracy: 0.9202\n",
      "Training Accuracy   : 0.9202\n",
      "\n",
      "7/7 [==============================] - 17s 2s/step - loss: 0.5926 - accuracy: 0.8095\n",
      "Validation Accuracy :  0.8095\n"
     ]
    }
   ],
   "source": [
    "# Score du dernier epoch\n",
    "\n",
    "loss, accuracy = model4.evaluate(dataset_train, verbose=True)\n",
    "print(\"Training Accuracy   : {:.4f}\".format(accuracy))\n",
    "print()\n",
    "loss, accuracy = model4.evaluate(dataset_val, verbose=True)\n",
    "print(\"Validation Accuracy :  {:.4f}\".format(accuracy))"
   ]
  },
  {
   "cell_type": "code",
   "execution_count": 40,
   "id": "b38dc2af",
   "metadata": {},
   "outputs": [
    {
     "data": {
      "image/png": "[encoded data removed]",
      "text/plain": [
       "<Figure size 1000x500 with 2 Axes>"
      ]
     },
     "metadata": {},
     "output_type": "display_data"
    }
   ],
   "source": [
    "show_history(history4)\n",
    "plot_history(history4, path=\"standard.png\")\n",
    "plt.close()"
   ]
  },
  {
   "cell_type": "markdown",
   "id": "b74aad1c",
   "metadata": {},
   "source": [
    "On voit que sur le test set l'accuracy est de 0.81, cela reste très correct."
   ]
  }
 ],
 "metadata": {
  "kernelspec": {
   "display_name": "Python 3 (ipykernel)",
   "language": "python",
   "name": "python3"
  },
  "language_info": {
   "codemirror_mode": {
    "name": "ipython",
    "version": 3
   },
   "file_extension": ".py",
   "mimetype": "text/x-python",
   "name": "python",
   "nbconvert_exporter": "python",
   "pygments_lexer": "ipython3",
   "version": "3.9.13"
  }
 },
 "nbformat": 4,
 "nbformat_minor": 5
}
